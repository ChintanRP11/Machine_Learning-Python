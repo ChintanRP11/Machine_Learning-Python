{
 "cells": [
  {
   "cell_type": "markdown",
   "metadata": {},
   "source": [
    "# Linear Regression"
   ]
  },
  {
   "cell_type": "code",
   "execution_count": 20,
   "metadata": {},
   "outputs": [],
   "source": [
    "import matplotlib.pyplot as plt\n",
    "import pylab as pl\n",
    "import pandas as pd\n",
    "import numpy as np\n",
    "from sklearn import linear_model"
   ]
  },
  {
   "cell_type": "code",
   "execution_count": 7,
   "metadata": {},
   "outputs": [],
   "source": [
    "df = pd.read_csv(\"../Exec1 - Regression/FuelConsumptionCo2.csv\")"
   ]
  },
  {
   "cell_type": "code",
   "execution_count": 10,
   "metadata": {
    "scrolled": false
   },
   "outputs": [
    {
     "data": {
      "text/html": [
       "<div>\n",
       "<style scoped>\n",
       "    .dataframe tbody tr th:only-of-type {\n",
       "        vertical-align: middle;\n",
       "    }\n",
       "\n",
       "    .dataframe tbody tr th {\n",
       "        vertical-align: top;\n",
       "    }\n",
       "\n",
       "    .dataframe thead th {\n",
       "        text-align: right;\n",
       "    }\n",
       "</style>\n",
       "<table border=\"1\" class=\"dataframe\">\n",
       "  <thead>\n",
       "    <tr style=\"text-align: right;\">\n",
       "      <th></th>\n",
       "      <th>MODELYEAR</th>\n",
       "      <th>MAKE</th>\n",
       "      <th>MODEL</th>\n",
       "      <th>VEHICLECLASS</th>\n",
       "      <th>ENGINESIZE</th>\n",
       "      <th>CYLINDERS</th>\n",
       "      <th>TRANSMISSION</th>\n",
       "      <th>FUELTYPE</th>\n",
       "      <th>FUELCONSUMPTION_CITY</th>\n",
       "      <th>FUELCONSUMPTION_HWY</th>\n",
       "      <th>FUELCONSUMPTION_COMB</th>\n",
       "      <th>FUELCONSUMPTION_COMB_MPG</th>\n",
       "      <th>CO2EMISSIONS</th>\n",
       "    </tr>\n",
       "  </thead>\n",
       "  <tbody>\n",
       "    <tr>\n",
       "      <th>0</th>\n",
       "      <td>2014</td>\n",
       "      <td>ACURA</td>\n",
       "      <td>ILX</td>\n",
       "      <td>COMPACT</td>\n",
       "      <td>2.0</td>\n",
       "      <td>4</td>\n",
       "      <td>AS5</td>\n",
       "      <td>Z</td>\n",
       "      <td>9.9</td>\n",
       "      <td>6.7</td>\n",
       "      <td>8.5</td>\n",
       "      <td>33</td>\n",
       "      <td>196</td>\n",
       "    </tr>\n",
       "    <tr>\n",
       "      <th>1</th>\n",
       "      <td>2014</td>\n",
       "      <td>ACURA</td>\n",
       "      <td>ILX</td>\n",
       "      <td>COMPACT</td>\n",
       "      <td>2.4</td>\n",
       "      <td>4</td>\n",
       "      <td>M6</td>\n",
       "      <td>Z</td>\n",
       "      <td>11.2</td>\n",
       "      <td>7.7</td>\n",
       "      <td>9.6</td>\n",
       "      <td>29</td>\n",
       "      <td>221</td>\n",
       "    </tr>\n",
       "    <tr>\n",
       "      <th>2</th>\n",
       "      <td>2014</td>\n",
       "      <td>ACURA</td>\n",
       "      <td>ILX HYBRID</td>\n",
       "      <td>COMPACT</td>\n",
       "      <td>1.5</td>\n",
       "      <td>4</td>\n",
       "      <td>AV7</td>\n",
       "      <td>Z</td>\n",
       "      <td>6.0</td>\n",
       "      <td>5.8</td>\n",
       "      <td>5.9</td>\n",
       "      <td>48</td>\n",
       "      <td>136</td>\n",
       "    </tr>\n",
       "    <tr>\n",
       "      <th>3</th>\n",
       "      <td>2014</td>\n",
       "      <td>ACURA</td>\n",
       "      <td>MDX 4WD</td>\n",
       "      <td>SUV - SMALL</td>\n",
       "      <td>3.5</td>\n",
       "      <td>6</td>\n",
       "      <td>AS6</td>\n",
       "      <td>Z</td>\n",
       "      <td>12.7</td>\n",
       "      <td>9.1</td>\n",
       "      <td>11.1</td>\n",
       "      <td>25</td>\n",
       "      <td>255</td>\n",
       "    </tr>\n",
       "    <tr>\n",
       "      <th>4</th>\n",
       "      <td>2014</td>\n",
       "      <td>ACURA</td>\n",
       "      <td>RDX AWD</td>\n",
       "      <td>SUV - SMALL</td>\n",
       "      <td>3.5</td>\n",
       "      <td>6</td>\n",
       "      <td>AS6</td>\n",
       "      <td>Z</td>\n",
       "      <td>12.1</td>\n",
       "      <td>8.7</td>\n",
       "      <td>10.6</td>\n",
       "      <td>27</td>\n",
       "      <td>244</td>\n",
       "    </tr>\n",
       "  </tbody>\n",
       "</table>\n",
       "</div>"
      ],
      "text/plain": [
       "   MODELYEAR   MAKE       MODEL VEHICLECLASS  ENGINESIZE  CYLINDERS  \\\n",
       "0       2014  ACURA         ILX      COMPACT         2.0          4   \n",
       "1       2014  ACURA         ILX      COMPACT         2.4          4   \n",
       "2       2014  ACURA  ILX HYBRID      COMPACT         1.5          4   \n",
       "3       2014  ACURA     MDX 4WD  SUV - SMALL         3.5          6   \n",
       "4       2014  ACURA     RDX AWD  SUV - SMALL         3.5          6   \n",
       "\n",
       "  TRANSMISSION FUELTYPE  FUELCONSUMPTION_CITY  FUELCONSUMPTION_HWY  \\\n",
       "0          AS5        Z                   9.9                  6.7   \n",
       "1           M6        Z                  11.2                  7.7   \n",
       "2          AV7        Z                   6.0                  5.8   \n",
       "3          AS6        Z                  12.7                  9.1   \n",
       "4          AS6        Z                  12.1                  8.7   \n",
       "\n",
       "   FUELCONSUMPTION_COMB  FUELCONSUMPTION_COMB_MPG  CO2EMISSIONS  \n",
       "0                   8.5                        33           196  \n",
       "1                   9.6                        29           221  \n",
       "2                   5.9                        48           136  \n",
       "3                  11.1                        25           255  \n",
       "4                  10.6                        27           244  "
      ]
     },
     "execution_count": 10,
     "metadata": {},
     "output_type": "execute_result"
    }
   ],
   "source": [
    "df.head()"
   ]
  },
  {
   "cell_type": "code",
   "execution_count": 11,
   "metadata": {
    "scrolled": true
   },
   "outputs": [
    {
     "data": {
      "text/html": [
       "<div>\n",
       "<style scoped>\n",
       "    .dataframe tbody tr th:only-of-type {\n",
       "        vertical-align: middle;\n",
       "    }\n",
       "\n",
       "    .dataframe tbody tr th {\n",
       "        vertical-align: top;\n",
       "    }\n",
       "\n",
       "    .dataframe thead th {\n",
       "        text-align: right;\n",
       "    }\n",
       "</style>\n",
       "<table border=\"1\" class=\"dataframe\">\n",
       "  <thead>\n",
       "    <tr style=\"text-align: right;\">\n",
       "      <th></th>\n",
       "      <th>MODELYEAR</th>\n",
       "      <th>ENGINESIZE</th>\n",
       "      <th>CYLINDERS</th>\n",
       "      <th>FUELCONSUMPTION_CITY</th>\n",
       "      <th>FUELCONSUMPTION_HWY</th>\n",
       "      <th>FUELCONSUMPTION_COMB</th>\n",
       "      <th>FUELCONSUMPTION_COMB_MPG</th>\n",
       "      <th>CO2EMISSIONS</th>\n",
       "    </tr>\n",
       "  </thead>\n",
       "  <tbody>\n",
       "    <tr>\n",
       "      <th>count</th>\n",
       "      <td>1067.0</td>\n",
       "      <td>1067.000000</td>\n",
       "      <td>1067.000000</td>\n",
       "      <td>1067.000000</td>\n",
       "      <td>1067.000000</td>\n",
       "      <td>1067.000000</td>\n",
       "      <td>1067.000000</td>\n",
       "      <td>1067.000000</td>\n",
       "    </tr>\n",
       "    <tr>\n",
       "      <th>mean</th>\n",
       "      <td>2014.0</td>\n",
       "      <td>3.346298</td>\n",
       "      <td>5.794752</td>\n",
       "      <td>13.296532</td>\n",
       "      <td>9.474602</td>\n",
       "      <td>11.580881</td>\n",
       "      <td>26.441425</td>\n",
       "      <td>256.228679</td>\n",
       "    </tr>\n",
       "    <tr>\n",
       "      <th>std</th>\n",
       "      <td>0.0</td>\n",
       "      <td>1.415895</td>\n",
       "      <td>1.797447</td>\n",
       "      <td>4.101253</td>\n",
       "      <td>2.794510</td>\n",
       "      <td>3.485595</td>\n",
       "      <td>7.468702</td>\n",
       "      <td>63.372304</td>\n",
       "    </tr>\n",
       "    <tr>\n",
       "      <th>min</th>\n",
       "      <td>2014.0</td>\n",
       "      <td>1.000000</td>\n",
       "      <td>3.000000</td>\n",
       "      <td>4.600000</td>\n",
       "      <td>4.900000</td>\n",
       "      <td>4.700000</td>\n",
       "      <td>11.000000</td>\n",
       "      <td>108.000000</td>\n",
       "    </tr>\n",
       "    <tr>\n",
       "      <th>25%</th>\n",
       "      <td>2014.0</td>\n",
       "      <td>2.000000</td>\n",
       "      <td>4.000000</td>\n",
       "      <td>10.250000</td>\n",
       "      <td>7.500000</td>\n",
       "      <td>9.000000</td>\n",
       "      <td>21.000000</td>\n",
       "      <td>207.000000</td>\n",
       "    </tr>\n",
       "    <tr>\n",
       "      <th>50%</th>\n",
       "      <td>2014.0</td>\n",
       "      <td>3.400000</td>\n",
       "      <td>6.000000</td>\n",
       "      <td>12.600000</td>\n",
       "      <td>8.800000</td>\n",
       "      <td>10.900000</td>\n",
       "      <td>26.000000</td>\n",
       "      <td>251.000000</td>\n",
       "    </tr>\n",
       "    <tr>\n",
       "      <th>75%</th>\n",
       "      <td>2014.0</td>\n",
       "      <td>4.300000</td>\n",
       "      <td>8.000000</td>\n",
       "      <td>15.550000</td>\n",
       "      <td>10.850000</td>\n",
       "      <td>13.350000</td>\n",
       "      <td>31.000000</td>\n",
       "      <td>294.000000</td>\n",
       "    </tr>\n",
       "    <tr>\n",
       "      <th>max</th>\n",
       "      <td>2014.0</td>\n",
       "      <td>8.400000</td>\n",
       "      <td>12.000000</td>\n",
       "      <td>30.200000</td>\n",
       "      <td>20.500000</td>\n",
       "      <td>25.800000</td>\n",
       "      <td>60.000000</td>\n",
       "      <td>488.000000</td>\n",
       "    </tr>\n",
       "  </tbody>\n",
       "</table>\n",
       "</div>"
      ],
      "text/plain": [
       "       MODELYEAR   ENGINESIZE    CYLINDERS  FUELCONSUMPTION_CITY  \\\n",
       "count     1067.0  1067.000000  1067.000000           1067.000000   \n",
       "mean      2014.0     3.346298     5.794752             13.296532   \n",
       "std          0.0     1.415895     1.797447              4.101253   \n",
       "min       2014.0     1.000000     3.000000              4.600000   \n",
       "25%       2014.0     2.000000     4.000000             10.250000   \n",
       "50%       2014.0     3.400000     6.000000             12.600000   \n",
       "75%       2014.0     4.300000     8.000000             15.550000   \n",
       "max       2014.0     8.400000    12.000000             30.200000   \n",
       "\n",
       "       FUELCONSUMPTION_HWY  FUELCONSUMPTION_COMB  FUELCONSUMPTION_COMB_MPG  \\\n",
       "count          1067.000000           1067.000000               1067.000000   \n",
       "mean              9.474602             11.580881                 26.441425   \n",
       "std               2.794510              3.485595                  7.468702   \n",
       "min               4.900000              4.700000                 11.000000   \n",
       "25%               7.500000              9.000000                 21.000000   \n",
       "50%               8.800000             10.900000                 26.000000   \n",
       "75%              10.850000             13.350000                 31.000000   \n",
       "max              20.500000             25.800000                 60.000000   \n",
       "\n",
       "       CO2EMISSIONS  \n",
       "count   1067.000000  \n",
       "mean     256.228679  \n",
       "std       63.372304  \n",
       "min      108.000000  \n",
       "25%      207.000000  \n",
       "50%      251.000000  \n",
       "75%      294.000000  \n",
       "max      488.000000  "
      ]
     },
     "execution_count": 11,
     "metadata": {},
     "output_type": "execute_result"
    }
   ],
   "source": [
    "df.describe()"
   ]
  },
  {
   "cell_type": "code",
   "execution_count": 13,
   "metadata": {},
   "outputs": [],
   "source": [
    "cdf = df[['ENGINESIZE','CO2EMISSIONS']]"
   ]
  },
  {
   "cell_type": "markdown",
   "metadata": {},
   "source": [
    "# Plotting cdf data"
   ]
  },
  {
   "cell_type": "code",
   "execution_count": 16,
   "metadata": {},
   "outputs": [
    {
     "data": {
      "image/png": "[encoded data removed]",
      "text/plain": [
       "<Figure size 432x288 with 1 Axes>"
      ]
     },
     "metadata": {
      "needs_background": "light"
     },
     "output_type": "display_data"
    }
   ],
   "source": [
    "plt.scatter(cdf.ENGINESIZE, cdf.CO2EMISSIONS, color=\"blue\") \n",
    "plt.xlabel(\"Engine Size\") \n",
    "plt.ylabel(\"Co2 Emissions\") \n",
    "plt.show()"
   ]
  },
  {
   "cell_type": "markdown",
   "metadata": {},
   "source": [
    "# Train-Test Data Creation"
   ]
  },
  {
   "cell_type": "code",
   "execution_count": 21,
   "metadata": {},
   "outputs": [],
   "source": [
    "msk = np.random.rand(len(df)) < 0.8\n",
    "train = cdf[msk]\n",
    "test = cdf[~msk]"
   ]
  },
  {
   "cell_type": "code",
   "execution_count": 22,
   "metadata": {},
   "outputs": [
    {
     "data": {
      "image/png": "[encoded data removed]",
      "text/plain": [
       "<Figure size 432x288 with 1 Axes>"
      ]
     },
     "metadata": {
      "needs_background": "light"
     },
     "output_type": "display_data"
    }
   ],
   "source": [
    "# plotting train datasets\n",
    "plt.scatter(train.ENGINESIZE, train.CO2EMISSIONS, color=\"blue\")\n",
    "plt.xlabel(\"EngineSize\")\n",
    "plt.ylabel(\"Co2emisisions\")\n",
    "plt.show()"
   ]
  },
  {
   "cell_type": "markdown",
   "metadata": {},
   "source": [
    "\n",
    "# Applying Simple Linear Regression"
   ]
  },
  {
   "cell_type": "code",
   "execution_count": 23,
   "metadata": {},
   "outputs": [
    {
     "data": {
      "text/plain": [
       "LinearRegression()"
      ]
     },
     "execution_count": 23,
     "metadata": {},
     "output_type": "execute_result"
    }
   ],
   "source": [
    "# from sklearn import linear_model\n",
    "regr = linear_model.LinearRegression()\n",
    "train_x = np.asanyarray(train[['ENGINESIZE']])\n",
    "train_y = np.asanyarray(train[['CO2EMISSIONS']])\n",
    "regr.fit(train_x, train_y)"
   ]
  },
  {
   "cell_type": "code",
   "execution_count": 26,
   "metadata": {},
   "outputs": [
    {
     "data": {
      "text/plain": [
       "(array([[39.82890781]]), array([122.45019515]))"
      ]
     },
     "execution_count": 26,
     "metadata": {},
     "output_type": "execute_result"
    }
   ],
   "source": [
    "regr.coef_, regr.intercept_"
   ]
  },
  {
   "cell_type": "markdown",
   "metadata": {},
   "source": [
    "# Plotting Line on the data"
   ]
  },
  {
   "cell_type": "code",
   "execution_count": 27,
   "metadata": {},
   "outputs": [
    {
     "data": {
      "image/png": "[encoded data removed]",
      "text/plain": [
       "<Figure size 432x288 with 1 Axes>"
      ]
     },
     "metadata": {
      "needs_background": "light"
     },
     "output_type": "display_data"
    }
   ],
   "source": [
    "plt.scatter(train.ENGINESIZE, train.CO2EMISSIONS, color=\"blue\")\n",
    "plt.plot(train_x, regr.coef_[0][0]*train_x + regr.intercept_[0], '-r')\n",
    "plt.xlabel(\"ENGINESIZE\")\n",
    "plt.ylabel(\"CO2EMISSIONS\")\n",
    "plt.show()"
   ]
  },
  {
   "cell_type": "markdown",
   "metadata": {},
   "source": [
    "# Prediction \"test_y_hat\" from \"test_x\" using \"regr\" model"
   ]
  },
  {
   "cell_type": "code",
   "execution_count": 29,
   "metadata": {},
   "outputs": [],
   "source": [
    "test_x = np.asanyarray(test[[\"ENGINESIZE\"]])\n",
    "test_y = np.asanyarray(test[[\"CO2EMISSIONS\"]])\n",
    "test_y_hat = regr.predict(test_x)"
   ]
  },
  {
   "cell_type": "markdown",
   "metadata": {},
   "source": [
    "# Calculating Errors"
   ]
  },
  {
   "cell_type": "code",
   "execution_count": 30,
   "metadata": {},
   "outputs": [
    {
     "data": {
      "text/plain": [
       "26.187183552479077"
      ]
     },
     "execution_count": 30,
     "metadata": {},
     "output_type": "execute_result"
    }
   ],
   "source": [
    "# mean absolute error\n",
    "np.mean(np.absolute(test_y_hat - test_y))"
   ]
  },
  {
   "cell_type": "code",
   "execution_count": 31,
   "metadata": {},
   "outputs": [
    {
     "data": {
      "text/plain": [
       "1087.0978567426373"
      ]
     },
     "execution_count": 31,
     "metadata": {},
     "output_type": "execute_result"
    }
   ],
   "source": [
    "# mean squared erroe\n",
    "np.mean((test_y_hat - test_y)**2)"
   ]
  },
  {
   "cell_type": "code",
   "execution_count": 32,
   "metadata": {},
   "outputs": [
    {
     "data": {
      "text/plain": [
       "0.6725183032574438"
      ]
     },
     "execution_count": 32,
     "metadata": {},
     "output_type": "execute_result"
    }
   ],
   "source": [
    "# calculating R2 score\n",
    "from sklearn.metrics import r2_score\n",
    "\n",
    "r2_score(test_y_hat, test_y)"
   ]
  },
  {
   "cell_type": "code",
   "execution_count": 49,
   "metadata": {},
   "outputs": [
    {
     "name": "stdout",
     "output_type": "stream",
     "text": [
      "[221] --- [218.03957389]\n",
      "[255] --- [269.81715403]\n",
      "[354] --- [309.64606184]\n",
      "[230] --- [202.10801076]\n",
      "[224] --- [241.93691857]\n",
      "[224] --- [241.93691857]\n",
      "[260] --- [281.76582638]\n",
      "[242] --- [202.10801076]\n",
      "[304] --- [241.93691857]\n",
      "[409] --- [329.56051574]\n",
      "[336] --- [289.73160794]\n",
      "[306] --- [289.73160794]\n",
      "[290] --- [281.76582638]\n",
      "[285] --- [241.93691857]\n",
      "[292] --- [241.93691857]\n",
      "[209] --- [202.10801076]\n",
      "[322] --- [281.76582638]\n",
      "[380] --- [361.42364199]\n",
      "[202] --- [202.10801076]\n",
      "[221] --- [241.93691857]\n",
      "[232] --- [241.93691857]\n",
      "[193] --- [202.10801076]\n",
      "[209] --- [202.10801076]\n",
      "[221] --- [241.93691857]\n",
      "[228] --- [241.93691857]\n",
      "[246] --- [241.93691857]\n",
      "[281] --- [297.6973895]\n",
      "[292] --- [297.6973895]\n",
      "[292] --- [297.6973895]\n",
      "[317] --- [297.6973895]\n",
      "[338] --- [297.6973895]\n",
      "[230] --- [202.10801076]\n",
      "[274] --- [241.93691857]\n",
      "[324] --- [297.6973895]\n",
      "[253] --- [241.93691857]\n",
      "[278] --- [241.93691857]\n",
      "[218] --- [218.03957389]\n",
      "[221] --- [202.10801076]\n",
      "[235] --- [202.10801076]\n",
      "[207] --- [222.02246467]\n",
      "[260] --- [265.83426325]\n",
      "[258] --- [265.83426325]\n",
      "[255] --- [241.93691857]\n",
      "[382] --- [369.38942355]\n",
      "[340] --- [369.38942355]\n",
      "[322] --- [369.38942355]\n",
      "[377] --- [369.38942355]\n",
      "[262] --- [265.83426325]\n",
      "[290] --- [265.83426325]\n",
      "[189] --- [194.1422292]\n",
      "[209] --- [218.03957389]\n",
      "[347] --- [293.71449872]\n",
      "[411] --- [361.42364199]\n",
      "[329] --- [369.38942355]\n",
      "[191] --- [178.21066608]\n",
      "[294] --- [333.54340652]\n",
      "[294] --- [333.54340652]\n",
      "[294] --- [333.54340652]\n",
      "[237] --- [265.83426325]\n",
      "[269] --- [265.83426325]\n",
      "[294] --- [349.47496965]\n",
      "[237] --- [265.83426325]\n",
      "[251] --- [265.83426325]\n",
      "[202] --- [218.03957389]\n",
      "[202] --- [218.03957389]\n",
      "[168] --- [178.21066608]\n",
      "[331] --- [349.47496965]\n",
      "[255] --- [218.03957389]\n",
      "[179] --- [178.21066608]\n",
      "[373] --- [305.66317106]\n",
      "[386] --- [305.66317106]\n",
      "[368] --- [305.66317106]\n",
      "[421] --- [337.5262973]\n",
      "[281] --- [269.81715403]\n",
      "[230] --- [202.10801076]\n",
      "[317] --- [261.85137247]\n",
      "[283] --- [269.81715403]\n",
      "[315] --- [321.59473418]\n",
      "[320] --- [321.59473418]\n",
      "[175] --- [186.17644764]\n",
      "[294] --- [261.85137247]\n",
      "[179] --- [202.10801076]\n",
      "[166] --- [202.10801076]\n",
      "[196] --- [182.19355686]\n",
      "[186] --- [182.19355686]\n",
      "[216] --- [202.10801076]\n",
      "[304] --- [353.45786043]\n",
      "[209] --- [202.10801076]\n",
      "[229] --- [261.85137247]\n",
      "[366] --- [333.54340652]\n",
      "[380] --- [333.54340652]\n",
      "[344] --- [333.54340652]\n",
      "[435] --- [361.42364199]\n",
      "[292] --- [333.54340652]\n",
      "[324] --- [369.38942355]\n",
      "[299] --- [333.54340652]\n",
      "[290] --- [265.83426325]\n",
      "[294] --- [333.54340652]\n",
      "[317] --- [333.54340652]\n",
      "[200] --- [218.03957389]\n",
      "[246] --- [261.85137247]\n",
      "[209] --- [218.03957389]\n",
      "[198] --- [202.10801076]\n",
      "[230] --- [218.03957389]\n",
      "[283] --- [345.49207887]\n",
      "[253] --- [261.85137247]\n",
      "[294] --- [321.59473418]\n",
      "[242] --- [202.10801076]\n",
      "[290] --- [321.59473418]\n",
      "[285] --- [241.93691857]\n",
      "[301] --- [321.59473418]\n",
      "[255] --- [218.03957389]\n",
      "[340] --- [349.47496965]\n",
      "[235] --- [218.03957389]\n",
      "[308] --- [265.83426325]\n",
      "[223] --- [186.17644764]\n",
      "[221] --- [186.17644764]\n",
      "[193] --- [202.10801076]\n",
      "[228] --- [202.10801076]\n",
      "[177] --- [186.17644764]\n",
      "[253] --- [218.03957389]\n",
      "[207] --- [186.17644764]\n",
      "[202] --- [202.10801076]\n",
      "[225] --- [202.10801076]\n",
      "[285] --- [241.93691857]\n",
      "[278] --- [241.93691857]\n",
      "[338] --- [321.59473418]\n",
      "[283] --- [241.93691857]\n",
      "[342] --- [321.59473418]\n",
      "[129] --- [194.1422292]\n",
      "[221] --- [261.85137247]\n",
      "[239] --- [261.85137247]\n",
      "[320] --- [305.66317106]\n",
      "[239] --- [222.02246467]\n",
      "[223] --- [222.02246467]\n",
      "[294] --- [261.85137247]\n",
      "[235] --- [202.10801076]\n",
      "[145] --- [202.10801076]\n",
      "[301] --- [241.93691857]\n",
      "[189] --- [202.10801076]\n",
      "[198] --- [222.02246467]\n",
      "[196] --- [202.10801076]\n",
      "[283] --- [269.81715403]\n",
      "[290] --- [269.81715403]\n",
      "[159] --- [202.10801076]\n",
      "[177] --- [222.02246467]\n",
      "[223] --- [222.02246467]\n",
      "[168] --- [222.02246467]\n",
      "[221] --- [202.10801076]\n",
      "[184] --- [202.10801076]\n",
      "[308] --- [341.50918808]\n",
      "[239] --- [261.85137247]\n",
      "[267] --- [309.64606184]\n",
      "[262] --- [309.64606184]\n",
      "[230] --- [206.09090154]\n",
      "[256] --- [261.85137247]\n",
      "[304] --- [341.50918808]\n",
      "[246] --- [341.50918808]\n",
      "[380] --- [369.38942355]\n",
      "[361] --- [369.38942355]\n",
      "[184] --- [186.17644764]\n",
      "[184] --- [186.17644764]\n",
      "[207] --- [186.17644764]\n",
      "[283] --- [202.10801076]\n",
      "[207] --- [202.10801076]\n",
      "[262] --- [269.81715403]\n",
      "[175] --- [222.02246467]\n",
      "[283] --- [222.02246467]\n",
      "[198] --- [186.17644764]\n",
      "[179] --- [194.1422292]\n",
      "[398] --- [345.49207887]\n",
      "[246] --- [257.86848169]\n",
      "[248] --- [273.80004481]\n",
      "[253] --- [273.80004481]\n",
      "[246] --- [257.86848169]\n",
      "[248] --- [273.80004481]\n",
      "[322] --- [273.80004481]\n",
      "[274] --- [273.80004481]\n",
      "[276] --- [265.83426325]\n",
      "[320] --- [313.62895262]\n",
      "[299] --- [313.62895262]\n",
      "[239] --- [257.86848169]\n",
      "[264] --- [241.93691857]\n",
      "[286] --- [241.93691857]\n",
      "[393] --- [389.30387745]\n",
      "[182] --- [194.1422292]\n",
      "[147] --- [162.27910296]\n",
      "[389] --- [457.01302072]\n",
      "[389] --- [457.01302072]\n",
      "[198] --- [222.02246467]\n",
      "[267] --- [265.83426325]\n",
      "[207] --- [222.02246467]\n",
      "[225] --- [222.02246467]\n",
      "[269] --- [265.83426325]\n",
      "[301] --- [265.83426325]\n",
      "[221] --- [261.85137247]\n",
      "[131] --- [222.02246467]\n",
      "[168] --- [194.1422292]\n",
      "[264] --- [261.85137247]\n",
      "[189] --- [261.85137247]\n",
      "[285] --- [261.85137247]\n",
      "[251] --- [229.98824623]\n",
      "[301] --- [281.76582638]\n",
      "[347] --- [305.66317106]\n",
      "[373] --- [349.47496965]\n",
      "[163] --- [182.19355686]\n",
      "[200] --- [194.1422292]\n",
      "[209] --- [202.10801076]\n",
      "[221] --- [222.02246467]\n",
      "[225] --- [202.10801076]\n",
      "[216] --- [202.10801076]\n",
      "[212] --- [202.10801076]\n",
      "[223] --- [222.02246467]\n",
      "[248] --- [265.83426325]\n",
      "[184] --- [202.10801076]\n",
      "[246] --- [202.10801076]\n",
      "[267] --- [202.10801076]\n",
      "[271] --- [241.93691857]\n"
     ]
    }
   ],
   "source": [
    "#printing test_y and test_y_hat side bt side\n",
    "#print([(test_y[i][0], test_y_hat[i][0]) for i in range(test_y.size)])\n",
    "for i in range(test_y.size):\n",
    "    print(test_y[i], \"---\", test_y_hat[i])\n",
    "    "
   ]
  },
  {
   "cell_type": "code",
   "execution_count": null,
   "metadata": {},
   "outputs": [],
   "source": []
  },
  {
   "cell_type": "code",
   "execution_count": null,
   "metadata": {},
   "outputs": [],
   "source": []
  }
 ],
 "metadata": {
  "kernelspec": {
   "display_name": "Python 3",
   "language": "python",
   "name": "python3"
  },
  "language_info": {
   "codemirror_mode": {
    "name": "ipython",
    "version": 3
   },
   "file_extension": ".py",
   "mimetype": "text/x-python",
   "name": "python",
   "nbconvert_exporter": "python",
   "pygments_lexer": "ipython3",
   "version": "3.8.3"
  }
 },
 "nbformat": 4,
 "nbformat_minor": 4
}
